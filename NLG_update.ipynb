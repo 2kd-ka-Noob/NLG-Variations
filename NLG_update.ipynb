{
 "cells": [
  {
   "cell_type": "code",
   "execution_count": 1,
   "metadata": {},
   "outputs": [],
   "source": [
    "import os,re"
   ]
  },
  {
   "cell_type": "code",
   "execution_count": 2,
   "metadata": {},
   "outputs": [],
   "source": [
    "import pandas"
   ]
  },
  {
   "cell_type": "code",
   "execution_count": 3,
   "metadata": {},
   "outputs": [],
   "source": [
    "folder = \"C:\\\\Users\\\\HP\\\\Desktop\\\\NLG Variations\" #location to be searched for the file\n",
    "\n",
    "for filename in os.listdir(folder):\n",
    "    \n",
    "    infilename = os.path.join(folder,filename)    #searching for file\n",
    "    base,ext = os.path.splitext(filename)         \n",
    "    newfilename = os.path.join(folder,base)\n",
    "    \n",
    "    if(base == 'Dialogs' and ext == '.bxb'):      #renaming the file from .bxb to .txt\n",
    "        os.rename(infilename,newfilename + '.txt')\n",
    "        print(newfilename + '.txt')\n",
    "    "
   ]
  },
  {
   "cell_type": "code",
   "execution_count": 4,
   "metadata": {},
   "outputs": [
    {
     "name": "stdout",
     "output_type": "stream",
     "text": [
      "Choose a Argument to update -\n",
      "NO_CONFIRMATION\n",
      "CONFIRMATION\n"
     ]
    }
   ],
   "source": [
    "\n",
    "excel_data_df = pandas.read_excel('Book1.xlsx', sheet_name='Sheet1', usecols=['Heading','Text1','Text2','Text3']) #reading data from excel sheet\n",
    "\n",
    "Content  = excel_data_df.to_dict(orient='record')\n",
    "print(\"Choose a Argument to update -\")  \n",
    "for i in Content:\n",
    "    print(i['Heading'])\n"
   ]
  },
  {
   "cell_type": "code",
   "execution_count": 5,
   "metadata": {},
   "outputs": [
    {
     "name": "stdout",
     "output_type": "stream",
     "text": [
      "Enter a heading to update:NO_CONFIRMATION\n"
     ]
    }
   ],
   "source": [
    "Heading  = input('Enter a heading to update:')   #taking input for update"
   ]
  },
  {
   "cell_type": "code",
   "execution_count": 6,
   "metadata": {},
   "outputs": [
    {
     "name": "stdout",
     "output_type": "stream",
     "text": [
      "\tText in the file before update-\n",
      "\n",
      "\n",
      "template-macro-def (FORGOT_INPUT){\n",
      "\tcontent{\n",
      "\t\tchoose (Random){\n",
      "\t\t\ttemplate (\"You forgot to say what you wanted to say, #{macro('NO_CONFIRMATION')}.\")\n",
      "\t\t\ttemplate (\"[All you said was \\\"#{value(confirmation)}\\\", ]#{macro('NO_CONFIRMATION')}.\")\n",
      "\t\t\ttemplate (\"Don't forget to include your message! #{title(macro('NO_CONFIRMATION'))}.\")\n",
      "\t\t}\n",
      "\t}\n",
      "}\n",
      "\n",
      "template-macro-def (CONFIRMATION){\n",
      "\tcontent{\n",
      "\t\tchoose (Random){\n",
      "\t\t\ttemplate (\"Hi  \")\n",
      "\t\t\ttemplate (\" Hello\")\n",
      "\t\t\ttemplate (\"Hey  \")\n",
      "\t\t}\n",
      "\t}\n",
      "}\n",
      "\n",
      "template-macro-def (NO_CONFIRMATION){\n",
      "\tcontent{\n",
      "\t\tchoose (Random){\n",
      "\t\t\ttemplate (\"over and out\")\n",
      "\t\t\ttemplate (\"over\")\n",
      "\t\t\ttemplate (\"out\")\n",
      "\t\t}\n",
      "\t}\n",
      "}\n",
      "<re.Match object; span=(485, 630), match='template-macro-def (NO_CONFIRMATION){\\n\\tcontent{>\n",
      "\n",
      "\n",
      "template-macro-def (FORGOT_INPUT){\n",
      "\tcontent{\n",
      "\t\tchoose (Random){\n",
      "\t\t\ttemplate (\"You forgot to say what you wanted to say, #{macro('NO_CONFIRMATION')}.\")\n",
      "\t\t\ttemplate (\"[All you said was \\\"#{value(confirmation)}\\\", ]#{macro('NO_CONFIRMATION')}.\")\n",
      "\t\t\ttemplate (\"Don't forget to include your message! #{title(macro('NO_CONFIRMATION'))}.\")\n",
      "\t\t}\n",
      "\t}\n",
      "}\n",
      "\n",
      "template-macro-def (CONFIRMATION){\n",
      "\tcontent{\n",
      "\t\tchoose (Random){\n",
      "\t\t\ttemplate (\"Hi  \")\n",
      "\t\t\ttemplate (\" Hello\")\n",
      "\t\t\ttemplate (\"Hey  \")\n",
      "\t\t}\n",
      "\t}\n",
      "}\n",
      "\n",
      "template-macro-def (NO_CONFIRMATION){\n",
      "\tcontent{\n",
      "\t\tchoose (Random){\n",
      "\t\t\ttemplate (\"Hi Sathwick\")\n",
      "\t\t\ttemplate (\"Hello Prathyusha\")\n",
      "\t\t\ttemplate (\"Hey Sagan\")\n",
      "\t\t}\n",
      "\t}\n",
      "}\n"
     ]
    }
   ],
   "source": [
    "print(\"\\tText in the file before update-\")\n",
    "\n",
    "with open(\"Dialogs.txt\",'r+') as file:   #opening the file and reading its content ,storing in a text object\n",
    "    text = file.read()\n",
    "\n",
    "print(text)\n",
    "\n",
    "for i in Content:\n",
    "    if(i['Heading']==Heading):           #creating variable for update\n",
    "        Text1 = (i['Text1'])\n",
    "        Text2 = (i['Text2'])\n",
    "        Text3 = (i['Text3'])\n",
    "    \n",
    "pattern = re.compile(r'''template-macro-def \\('''+Heading+'''\\){\n",
    "\tcontent{\n",
    "\t\tchoose \\(Random\\){\n",
    "\t\t\ttemplate \\(\"(.*)\"\\)\n",
    "\t\t\ttemplate \\(\"(.*)\"\\)\n",
    "\t\t\ttemplate \\(\"(.*)\"\\)\n",
    "\t\t}\n",
    "\t}\n",
    "}''',re.M)                                #creating a regularized expression for searching in the file content\n",
    "\n",
    "matches = pattern.finditer(text)          #finding matches in the file\n",
    "\n",
    "for match in matches:                     \n",
    "    print(match)\n",
    "    \n",
    "k = match.group()                        #creating gropus from the matches found\n",
    "p = match.groups()\n",
    "\n",
    "pattern1 = re.compile(p[0])              #creating pattern from different groups\n",
    "pattern2 = re.compile(p[1])\n",
    "pattern3 = re.compile(p[2])\n",
    "\n",
    "k = pattern1.sub(Text1,k)                #substituting each pattern from the found matches\n",
    "k = pattern2.sub(Text2,k)\n",
    "k = pattern3.sub(Text3,k)\n",
    "\n",
    "text = pattern.sub(k,text)               #substituting each pattern in text object\n",
    "\n",
    "print(text)"
   ]
  },
  {
   "cell_type": "code",
   "execution_count": 57,
   "metadata": {},
   "outputs": [],
   "source": [
    "with open(\"Dialogs.txt\",'w') as file:\n",
    "    file.write(text)                          # writting the object into the file"
   ]
  },
  {
   "cell_type": "code",
   "execution_count": 7,
   "metadata": {},
   "outputs": [
    {
     "name": "stdout",
     "output_type": "stream",
     "text": [
      "C:\\Users\\HP\\Desktop\\NLG Variations\\Dialogs.bxb\n"
     ]
    }
   ],
   "source": [
    "\n",
    "\n",
    "folder = \"C:\\\\Users\\\\HP\\\\Desktop\\\\NLG Variations\"         # renaming the .txt file into .bxb\n",
    "\n",
    "for filename in os.listdir(folder):\n",
    "    \n",
    "    infilename = os.path.join(folder,filename)\n",
    "    base,ext = os.path.splitext(filename)\n",
    "    newfilename = os.path.join(folder,base)\n",
    "    \n",
    "    if(base == 'Dialogs' and ext == '.txt'):\n",
    "        os.rename(infilename,newfilename + '.bxb')\n",
    "        print(newfilename + '.bxb')\n",
    "    "
   ]
  },
  {
   "cell_type": "code",
   "execution_count": null,
   "metadata": {},
   "outputs": [],
   "source": []
  }
 ],
 "metadata": {
  "kernelspec": {
   "display_name": "Python 3",
   "language": "python",
   "name": "python3"
  },
  "language_info": {
   "codemirror_mode": {
    "name": "ipython",
    "version": 3
   },
   "file_extension": ".py",
   "mimetype": "text/x-python",
   "name": "python",
   "nbconvert_exporter": "python",
   "pygments_lexer": "ipython3",
   "version": "3.7.3"
  }
 },
 "nbformat": 4,
 "nbformat_minor": 2
}
